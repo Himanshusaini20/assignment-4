{
 "cells": [
  {
   "cell_type": "markdown",
   "id": "47c965e0-7ced-4759-b62b-4667cd2ebb48",
   "metadata": {},
   "source": [
    "### Create a python program to sort the list of tuples based on integer value using a lambda function."
   ]
  },
  {
   "cell_type": "code",
   "execution_count": 3,
   "id": "cc46bfd1-da79-47b3-802a-1d5c0ed8d8ff",
   "metadata": {},
   "outputs": [],
   "source": [
    "l=[('sachin tendulkar',34357),('ricky ponting',27483),('jack kallis',25534),('virat kohli',24936)]"
   ]
  },
  {
   "cell_type": "code",
   "execution_count": 9,
   "id": "dbb30596-71d0-401e-825e-09b176d22ad3",
   "metadata": {},
   "outputs": [
    {
     "data": {
      "text/plain": [
       "list_iterator"
      ]
     },
     "execution_count": 9,
     "metadata": {},
     "output_type": "execute_result"
    }
   ],
   "source": [
    "type(iter(l))"
   ]
  },
  {
   "cell_type": "code",
   "execution_count": 19,
   "id": "ace54a29-eeb2-4d73-9d55-09bbdac51c3e",
   "metadata": {},
   "outputs": [
    {
     "name": "stdout",
     "output_type": "stream",
     "text": [
      "[('virat kohli', 24936), ('jack kallis', 25534), ('ricky ponting', 27483), ('sachin tendulkar', 34357)]\n"
     ]
    }
   ],
   "source": [
    "l.sort(key=lambda x:x[1])\n",
    "print(l)"
   ]
  },
  {
   "cell_type": "markdown",
   "id": "8cfce737-e065-4ef4-9951-8d1f15b396e0",
   "metadata": {},
   "source": [
    "### Q2 Write a python program to find the squares of all the numbers in the given list of integers using map and lambda function.[1,2,3,4,5,6,7,8,9,10]"
   ]
  },
  {
   "cell_type": "code",
   "execution_count": 13,
   "id": "0d24ef91-43db-485e-aa4e-68bcbd42baf6",
   "metadata": {},
   "outputs": [
    {
     "data": {
      "text/plain": [
       "[1, 4, 9, 16, 25, 36, 49, 64, 81, 100]"
      ]
     },
     "execution_count": 13,
     "metadata": {},
     "output_type": "execute_result"
    }
   ],
   "source": [
    "l1=[1,2,3,4,5,6,7,8,9,10]\n",
    "list(map(lambda x:x**2,l1 ))"
   ]
  },
  {
   "cell_type": "markdown",
   "id": "39cec0d9-a64b-41ae-b244-da5de1cb943e",
   "metadata": {},
   "source": [
    "### Q3 Write a python program to convert the given list of integers into a tuples of string. Use map and lambda functios[1,2,3,4,5,6,7,8,9,10]"
   ]
  },
  {
   "cell_type": "code",
   "execution_count": 14,
   "id": "fef37027-3880-4396-88c7-9f7b2e919426",
   "metadata": {},
   "outputs": [
    {
     "data": {
      "text/plain": [
       "('1', '2', '3', '4', '5', '6', '7', '8', '9', '10')"
      ]
     },
     "execution_count": 14,
     "metadata": {},
     "output_type": "execute_result"
    }
   ],
   "source": [
    "tuple(map(lambda x:str(x),l1))"
   ]
  },
  {
   "cell_type": "markdown",
   "id": "f6278fed-e92d-4089-8f6f-b288ca88fe22",
   "metadata": {},
   "source": [
    "### Q4 write a python program using reduce function to computer the product of a list containing numbers from 1 to 25"
   ]
  },
  {
   "cell_type": "code",
   "execution_count": 6,
   "id": "ed08be6b-7faa-41df-8a71-25a9c125e9f0",
   "metadata": {},
   "outputs": [],
   "source": [
    "from functools import reduce"
   ]
  },
  {
   "cell_type": "code",
   "execution_count": 48,
   "id": "19bcef66-a407-4826-b43c-92f0fac3a02d",
   "metadata": {},
   "outputs": [],
   "source": [
    "l=list(range(1,25))"
   ]
  },
  {
   "cell_type": "code",
   "execution_count": 50,
   "id": "7c3f8fd0-ff2e-4c47-be97-5d7c137cd481",
   "metadata": {},
   "outputs": [
    {
     "data": {
      "text/plain": [
       "620448401733239439360000"
      ]
     },
     "execution_count": 50,
     "metadata": {},
     "output_type": "execute_result"
    }
   ],
   "source": [
    "reduce(lambda x,y:x*y,l)"
   ]
  },
  {
   "cell_type": "markdown",
   "id": "88b2a572-adfe-4d88-841c-9efb0cb681b0",
   "metadata": {},
   "source": [
    "### Q5 Write apython program to filter the number in a given list that are divisible by 2 and 3 the filter function [2,3,6,9,27,60,90,120,55,46]"
   ]
  },
  {
   "cell_type": "code",
   "execution_count": 52,
   "id": "8cdacbff-ebb9-4615-8a2f-1914c2dfb982",
   "metadata": {},
   "outputs": [
    {
     "data": {
      "text/plain": [
       "[6, 12, 18, 24]"
      ]
     },
     "execution_count": 52,
     "metadata": {},
     "output_type": "execute_result"
    }
   ],
   "source": [
    "l2=[2,3,6,9,27,60,90,120,55,46]\n",
    "list(filter(lambda x: x%2==0 and x%3==0,l ))"
   ]
  },
  {
   "cell_type": "markdown",
   "id": "1f36aa5f-9ea0-4c21-9688-dec0ec7c08d7",
   "metadata": {},
   "source": [
    "### Q6 Write a python program to find palindromes in the given list of strings using lambda and filter function.['python','php','aba','radar','level']"
   ]
  },
  {
   "cell_type": "code",
   "execution_count": 2,
   "id": "7d529256-1860-4863-b045-01fe7bc98919",
   "metadata": {},
   "outputs": [
    {
     "name": "stdout",
     "output_type": "stream",
     "text": [
      "list of palindromes\n",
      "['php', 'aba', 'radar', 'level']\n"
     ]
    }
   ],
   "source": [
    "string=['python','php','aba','radar','level']\n",
    "string1=list(filter(lambda x:(x==''.join(reversed(x))),string))\n",
    "print('list of palindromes')\n",
    "print(string1)"
   ]
  },
  {
   "cell_type": "code",
   "execution_count": null,
   "id": "58f9e99d-74fd-43e4-b13d-6abe029b2a80",
   "metadata": {},
   "outputs": [],
   "source": []
  }
 ],
 "metadata": {
  "kernelspec": {
   "display_name": "Python 3 (ipykernel)",
   "language": "python",
   "name": "python3"
  },
  "language_info": {
   "codemirror_mode": {
    "name": "ipython",
    "version": 3
   },
   "file_extension": ".py",
   "mimetype": "text/x-python",
   "name": "python",
   "nbconvert_exporter": "python",
   "pygments_lexer": "ipython3",
   "version": "3.10.8"
  }
 },
 "nbformat": 4,
 "nbformat_minor": 5
}
